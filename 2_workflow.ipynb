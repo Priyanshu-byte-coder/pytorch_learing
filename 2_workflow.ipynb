{
 "cells": [
  {
   "cell_type": "code",
   "execution_count": 133,
   "id": "0c97346e-a4ae-4c8f-94a8-5a99a463d9c8",
   "metadata": {},
   "outputs": [],
   "source": [
    "import torch\n",
    "from torch import nn"
   ]
  },
  {
   "cell_type": "code",
   "execution_count": 135,
   "id": "a659a05c-478f-48c6-bcbd-d3bd51b63f30",
   "metadata": {},
   "outputs": [],
   "source": [
    "from torch import nn"
   ]
  },
  {
   "cell_type": "code",
   "execution_count": 137,
   "id": "6193bffc-eacd-44b3-b93b-c38b109e290a",
   "metadata": {},
   "outputs": [],
   "source": [
    "import matplotlib.pyplot as plt"
   ]
  },
  {
   "cell_type": "code",
   "execution_count": 139,
   "id": "efdabe9a-b7db-4877-aec0-8bed18218e91",
   "metadata": {},
   "outputs": [
    {
     "data": {
      "text/plain": [
       "'2.7.0+cu118'"
      ]
     },
     "execution_count": 139,
     "metadata": {},
     "output_type": "execute_result"
    }
   ],
   "source": [
    "torch.__version__"
   ]
  },
  {
   "cell_type": "code",
   "execution_count": 140,
   "id": "5c3defbd-50bf-4fdc-95bf-f95791d8ac11",
   "metadata": {},
   "outputs": [],
   "source": [
    "w=0.7\n",
    "b=0.3"
   ]
  },
  {
   "cell_type": "code",
   "execution_count": 143,
   "id": "4796b7bb-ab17-4576-958c-bfa296a9d1ec",
   "metadata": {},
   "outputs": [],
   "source": [
    "start= 0\n",
    "end=1\n",
    "step = 0.02\n",
    "x=torch.arange(start,end,step).unsqueeze(dim=1)\n",
    "y=w*x+b"
   ]
  },
  {
   "cell_type": "code",
   "execution_count": 144,
   "id": "8a72e59f-0f90-4390-b76c-e86ccbcf4d6e",
   "metadata": {},
   "outputs": [
    {
     "data": {
      "text/plain": [
       "(tensor([[0.0000],\n",
       "         [0.0200],\n",
       "         [0.0400],\n",
       "         [0.0600],\n",
       "         [0.0800],\n",
       "         [0.1000],\n",
       "         [0.1200],\n",
       "         [0.1400],\n",
       "         [0.1600],\n",
       "         [0.1800]]),\n",
       " tensor([[0.3000],\n",
       "         [0.3140],\n",
       "         [0.3280],\n",
       "         [0.3420],\n",
       "         [0.3560],\n",
       "         [0.3700],\n",
       "         [0.3840],\n",
       "         [0.3980],\n",
       "         [0.4120],\n",
       "         [0.4260]]))"
      ]
     },
     "execution_count": 144,
     "metadata": {},
     "output_type": "execute_result"
    }
   ],
   "source": [
    "x[:10],y[:10]"
   ]
  },
  {
   "cell_type": "code",
   "execution_count": 147,
   "id": "bfbce398-07db-4b5b-a199-4543ca4ee59a",
   "metadata": {},
   "outputs": [
    {
     "data": {
      "text/plain": [
       "(50, 50)"
      ]
     },
     "execution_count": 147,
     "metadata": {},
     "output_type": "execute_result"
    }
   ],
   "source": [
    "len(x),len(y)"
   ]
  },
  {
   "cell_type": "code",
   "execution_count": 149,
   "id": "aaa781ef-e6a0-4f18-889c-42e10ba4fc04",
   "metadata": {},
   "outputs": [],
   "source": [
    "from sklearn.model_selection import train_test_split"
   ]
  },
  {
   "cell_type": "code",
   "execution_count": 151,
   "id": "cd8204a3-c4c8-4166-a75d-25bc9a122933",
   "metadata": {},
   "outputs": [],
   "source": [
    "x_train,x_test,y_train,y_test=train_test_split(x,y,test_size=0.2)"
   ]
  },
  {
   "cell_type": "code",
   "execution_count": 153,
   "id": "01bb6af3-6254-4426-8a9c-6a51af83f54e",
   "metadata": {},
   "outputs": [
    {
     "data": {
      "text/plain": [
       "10"
      ]
     },
     "execution_count": 153,
     "metadata": {},
     "output_type": "execute_result"
    }
   ],
   "source": [
    "len(x_test)"
   ]
  },
  {
   "cell_type": "code",
   "execution_count": 155,
   "id": "45246d8e-43a8-4b3e-a548-7e72265f6a01",
   "metadata": {},
   "outputs": [],
   "source": [
    "def plot(train_data=x_train,\n",
    "        train_lables=y_train,\n",
    "        test_data=x_test,\n",
    "        test_lables=y_test,\n",
    "         predictions=None):\n",
    "    plt.figure(figsize=(10,7))\n",
    "    plt.scatter(train_data,train_lables,c='b',s=4,label=\"training data\")\n",
    "    plt.scatter(test_data,test_lables,c='g',s=4,label=\"testing data\")\n",
    "    if predictions is not None:\n",
    "        plt.scatter(test_data,predictions.detach().numpy(),c='r',s=4,label=\"predictions\")\n",
    "    plt.legend(prop={\"size\":14});"
   ]
  },
  {
   "cell_type": "code",
   "execution_count": 157,
   "id": "77ff9c6a-0dbb-41f5-96df-12d66497094c",
   "metadata": {},
   "outputs": [
    {
     "data": {
      "image/png": "[encoded data removed]",
      "text/plain": [
       "<Figure size 1000x700 with 1 Axes>"
      ]
     },
     "metadata": {},
     "output_type": "display_data"
    }
   ],
   "source": [
    "plot()"
   ]
  },
  {
   "cell_type": "code",
   "execution_count": 208,
   "id": "196e7dc2-34f8-4f87-814e-c209cb34cfd9",
   "metadata": {},
   "outputs": [],
   "source": [
    "class LinearRegressionModel(nn.Module):\n",
    "    def __init__(self):\n",
    "        super().__init__()\n",
    "        self.weights=nn.Parameter(torch.randn(1,\n",
    "                                             requires_grad=True,\n",
    "                                             dtype=torch.float))\n",
    "        self.bias=nn.Parameter(torch.randn(1,\n",
    "                                          requires_grad=True,\n",
    "                                          dtype=torch.float))\n",
    "    def forward(self, x: torch.Tensor)->torch.Tensor:\n",
    "        return self.weights*x + self.bias"
   ]
  },
  {
   "cell_type": "code",
   "execution_count": 210,
   "id": "ea66af49-5bef-4a11-af45-551e4ab8145d",
   "metadata": {},
   "outputs": [
    {
     "data": {
      "text/plain": [
       "(LinearRegressionModel(),\n",
       " [Parameter containing:\n",
       "  tensor([0.3367], requires_grad=True),\n",
       "  Parameter containing:\n",
       "  tensor([0.1288], requires_grad=True)])"
      ]
     },
     "execution_count": 210,
     "metadata": {},
     "output_type": "execute_result"
    }
   ],
   "source": [
    "torch.manual_seed(42)\n",
    "model_0=LinearRegressionModel()\n",
    "model_0,list(model_0.parameters())"
   ]
  },
  {
   "cell_type": "code",
   "execution_count": 212,
   "id": "7896d9a4-4d64-40b0-9c17-532f33d3b449",
   "metadata": {},
   "outputs": [
    {
     "data": {
      "text/plain": [
       "OrderedDict([('weights', tensor([0.3367])), ('bias', tensor([0.1288]))])"
      ]
     },
     "execution_count": 212,
     "metadata": {},
     "output_type": "execute_result"
    }
   ],
   "source": [
    "model_0.state_dict()"
   ]
  },
  {
   "cell_type": "code",
   "execution_count": 214,
   "id": "45764735-00b2-4c6c-bbfc-88edcaa160c4",
   "metadata": {},
   "outputs": [
    {
     "data": {
      "text/plain": [
       "tensor([[0.1423],\n",
       "        [0.3780],\n",
       "        [0.1288],\n",
       "        [0.1894],\n",
       "        [0.3982],\n",
       "        [0.2163],\n",
       "        [0.2298],\n",
       "        [0.4453],\n",
       "        [0.4520],\n",
       "        [0.2972]])"
      ]
     },
     "execution_count": 214,
     "metadata": {},
     "output_type": "execute_result"
    }
   ],
   "source": [
    "with torch.inference_mode():\n",
    "    y_preds=model_0(x_test)\n",
    "y_preds"
   ]
  },
  {
   "cell_type": "code",
   "execution_count": 216,
   "id": "2a86e160-ca97-4573-b7d6-671d7749e6c5",
   "metadata": {},
   "outputs": [
    {
     "data": {
      "text/plain": [
       "tensor([[0.3280],\n",
       "        [0.8180],\n",
       "        [0.3000],\n",
       "        [0.4260],\n",
       "        [0.8600],\n",
       "        [0.4820],\n",
       "        [0.5100],\n",
       "        [0.9580],\n",
       "        [0.9720],\n",
       "        [0.6500]])"
      ]
     },
     "execution_count": 216,
     "metadata": {},
     "output_type": "execute_result"
    }
   ],
   "source": [
    "y_test"
   ]
  },
  {
   "cell_type": "code",
   "execution_count": 218,
   "id": "5cc74666-c160-47f4-84db-f10d42e804a0",
   "metadata": {},
   "outputs": [
    {
     "data": {
      "image/png": "[encoded data removed]",
      "text/plain": [
       "<Figure size 1000x700 with 1 Axes>"
      ]
     },
     "metadata": {},
     "output_type": "display_data"
    }
   ],
   "source": [
    "plot(predictions=y_preds)"
   ]
  },
  {
   "cell_type": "code",
   "execution_count": 220,
   "id": "442529a9-65aa-428c-b25b-4b0de01e469d",
   "metadata": {},
   "outputs": [],
   "source": [
    "loss_fn=nn.L1Loss()\n",
    "optimizer=torch.optim.SGD(params=model_0.parameters(),\n",
    "                          lr=0.01)"
   ]
  },
  {
   "cell_type": "code",
   "execution_count": 222,
   "id": "5714d3b2-d558-4bf0-81ac-d6a5197c9acf",
   "metadata": {},
   "outputs": [
    {
     "data": {
      "text/plain": [
       "OrderedDict([('weights', tensor([0.3367])), ('bias', tensor([0.1288]))])"
      ]
     },
     "execution_count": 222,
     "metadata": {},
     "output_type": "execute_result"
    }
   ],
   "source": [
    "model_0.state_dict()"
   ]
  },
  {
   "cell_type": "code",
   "execution_count": 224,
   "id": "b05644d4-2157-4208-8bb8-3473172cb7f1",
   "metadata": {},
   "outputs": [
    {
     "data": {
      "text/plain": [
       "OrderedDict([('weights', tensor([0.3367])), ('bias', tensor([0.1288]))])"
      ]
     },
     "execution_count": 224,
     "metadata": {},
     "output_type": "execute_result"
    }
   ],
   "source": [
    "model_0.state_dict()"
   ]
  },
  {
   "cell_type": "code",
   "execution_count": 226,
   "id": "e888059a-3427-4f0c-9d45-0980b46b1098",
   "metadata": {
    "collapsed": true,
    "jupyter": {
     "outputs_hidden": true
    }
   },
   "outputs": [
    {
     "name": "stdout",
     "output_type": "stream",
     "text": [
      "tensor(0.3508, grad_fn=<MeanBackward0>)\n",
      "epoch: 0|loss:0.3508472442626953|test loss0.33033865690231323\n",
      "OrderedDict({'weights': tensor([0.3416]), 'bias': tensor([0.1388])})\n",
      "tensor(0.3384, grad_fn=<MeanBackward0>)\n",
      "tensor(0.3260, grad_fn=<MeanBackward0>)\n",
      "tensor(0.3135, grad_fn=<MeanBackward0>)\n",
      "tensor(0.3011, grad_fn=<MeanBackward0>)\n",
      "tensor(0.2886, grad_fn=<MeanBackward0>)\n",
      "tensor(0.2762, grad_fn=<MeanBackward0>)\n",
      "tensor(0.2637, grad_fn=<MeanBackward0>)\n",
      "tensor(0.2513, grad_fn=<MeanBackward0>)\n",
      "tensor(0.2388, grad_fn=<MeanBackward0>)\n",
      "tensor(0.2264, grad_fn=<MeanBackward0>)\n",
      "epoch: 10|loss:0.22639408707618713|test loss0.20699819922447205\n",
      "OrderedDict({'weights': tensor([0.3911]), 'bias': tensor([0.2388])})\n",
      "tensor(0.2139, grad_fn=<MeanBackward0>)\n",
      "tensor(0.2015, grad_fn=<MeanBackward0>)\n",
      "tensor(0.1891, grad_fn=<MeanBackward0>)\n",
      "tensor(0.1766, grad_fn=<MeanBackward0>)\n",
      "tensor(0.1642, grad_fn=<MeanBackward0>)\n",
      "tensor(0.1517, grad_fn=<MeanBackward0>)\n",
      "tensor(0.1393, grad_fn=<MeanBackward0>)\n",
      "tensor(0.1270, grad_fn=<MeanBackward0>)\n",
      "tensor(0.1156, grad_fn=<MeanBackward0>)\n",
      "tensor(0.1055, grad_fn=<MeanBackward0>)\n",
      "epoch: 20|loss:0.10548969358205795|test loss0.09928939491510391\n",
      "OrderedDict({'weights': tensor([0.4404]), 'bias': tensor([0.3353])})\n",
      "tensor(0.0970, grad_fn=<MeanBackward0>)\n",
      "tensor(0.0896, grad_fn=<MeanBackward0>)\n",
      "tensor(0.0832, grad_fn=<MeanBackward0>)\n",
      "tensor(0.0773, grad_fn=<MeanBackward0>)\n",
      "tensor(0.0725, grad_fn=<MeanBackward0>)\n",
      "tensor(0.0682, grad_fn=<MeanBackward0>)\n",
      "tensor(0.0641, grad_fn=<MeanBackward0>)\n",
      "tensor(0.0605, grad_fn=<MeanBackward0>)\n",
      "tensor(0.0575, grad_fn=<MeanBackward0>)\n",
      "tensor(0.0551, grad_fn=<MeanBackward0>)\n",
      "epoch: 30|loss:0.05505422502756119|test loss0.06863344460725784\n",
      "OrderedDict({'weights': tensor([0.4828]), 'bias': tensor([0.3863])})\n",
      "tensor(0.0530, grad_fn=<MeanBackward0>)\n",
      "tensor(0.0514, grad_fn=<MeanBackward0>)\n",
      "tensor(0.0501, grad_fn=<MeanBackward0>)\n",
      "tensor(0.0490, grad_fn=<MeanBackward0>)\n",
      "tensor(0.0481, grad_fn=<MeanBackward0>)\n",
      "tensor(0.0473, grad_fn=<MeanBackward0>)\n",
      "tensor(0.0466, grad_fn=<MeanBackward0>)\n",
      "tensor(0.0459, grad_fn=<MeanBackward0>)\n",
      "tensor(0.0454, grad_fn=<MeanBackward0>)\n",
      "tensor(0.0448, grad_fn=<MeanBackward0>)\n",
      "epoch: 40|loss:0.04484822228550911|test loss0.06004451960325241\n",
      "OrderedDict({'weights': tensor([0.5103]), 'bias': tensor([0.3953])})\n",
      "tensor(0.0443, grad_fn=<MeanBackward0>)\n",
      "tensor(0.0438, grad_fn=<MeanBackward0>)\n",
      "tensor(0.0432, grad_fn=<MeanBackward0>)\n",
      "tensor(0.0427, grad_fn=<MeanBackward0>)\n",
      "tensor(0.0422, grad_fn=<MeanBackward0>)\n",
      "tensor(0.0418, grad_fn=<MeanBackward0>)\n",
      "tensor(0.0413, grad_fn=<MeanBackward0>)\n",
      "tensor(0.0409, grad_fn=<MeanBackward0>)\n",
      "tensor(0.0404, grad_fn=<MeanBackward0>)\n",
      "tensor(0.0400, grad_fn=<MeanBackward0>)\n",
      "epoch: 50|loss:0.03996635973453522|test loss0.05465235561132431\n",
      "OrderedDict({'weights': tensor([0.5315]), 'bias': tensor([0.3913])})\n",
      "tensor(0.0395, grad_fn=<MeanBackward0>)\n",
      "tensor(0.0391, grad_fn=<MeanBackward0>)\n",
      "tensor(0.0387, grad_fn=<MeanBackward0>)\n",
      "tensor(0.0383, grad_fn=<MeanBackward0>)\n",
      "tensor(0.0378, grad_fn=<MeanBackward0>)\n",
      "tensor(0.0374, grad_fn=<MeanBackward0>)\n",
      "tensor(0.0370, grad_fn=<MeanBackward0>)\n",
      "tensor(0.0366, grad_fn=<MeanBackward0>)\n",
      "tensor(0.0361, grad_fn=<MeanBackward0>)\n",
      "tensor(0.0357, grad_fn=<MeanBackward0>)\n",
      "epoch: 60|loss:0.03570832684636116|test loss0.04875354841351509\n",
      "OrderedDict({'weights': tensor([0.5496]), 'bias': tensor([0.3813])})\n",
      "tensor(0.0353, grad_fn=<MeanBackward0>)\n",
      "tensor(0.0349, grad_fn=<MeanBackward0>)\n",
      "tensor(0.0344, grad_fn=<MeanBackward0>)\n",
      "tensor(0.0340, grad_fn=<MeanBackward0>)\n",
      "tensor(0.0336, grad_fn=<MeanBackward0>)\n",
      "tensor(0.0332, grad_fn=<MeanBackward0>)\n",
      "tensor(0.0327, grad_fn=<MeanBackward0>)\n",
      "tensor(0.0323, grad_fn=<MeanBackward0>)\n",
      "tensor(0.0319, grad_fn=<MeanBackward0>)\n",
      "tensor(0.0315, grad_fn=<MeanBackward0>)\n",
      "epoch: 70|loss:0.031451575458049774|test loss0.042896442115306854\n",
      "OrderedDict({'weights': tensor([0.5679]), 'bias': tensor([0.3718])})\n",
      "tensor(0.0310, grad_fn=<MeanBackward0>)\n",
      "tensor(0.0306, grad_fn=<MeanBackward0>)\n",
      "tensor(0.0302, grad_fn=<MeanBackward0>)\n",
      "tensor(0.0297, grad_fn=<MeanBackward0>)\n",
      "tensor(0.0293, grad_fn=<MeanBackward0>)\n",
      "tensor(0.0289, grad_fn=<MeanBackward0>)\n",
      "tensor(0.0285, grad_fn=<MeanBackward0>)\n",
      "tensor(0.0280, grad_fn=<MeanBackward0>)\n",
      "tensor(0.0276, grad_fn=<MeanBackward0>)\n",
      "tensor(0.0272, grad_fn=<MeanBackward0>)\n",
      "epoch: 80|loss:0.027193540707230568|test loss0.036997660994529724\n",
      "OrderedDict({'weights': tensor([0.5859]), 'bias': tensor([0.3618])})\n",
      "tensor(0.0268, grad_fn=<MeanBackward0>)\n",
      "tensor(0.0263, grad_fn=<MeanBackward0>)\n",
      "tensor(0.0259, grad_fn=<MeanBackward0>)\n",
      "tensor(0.0255, grad_fn=<MeanBackward0>)\n",
      "tensor(0.0251, grad_fn=<MeanBackward0>)\n",
      "tensor(0.0246, grad_fn=<MeanBackward0>)\n",
      "tensor(0.0242, grad_fn=<MeanBackward0>)\n",
      "tensor(0.0238, grad_fn=<MeanBackward0>)\n",
      "tensor(0.0234, grad_fn=<MeanBackward0>)\n",
      "tensor(0.0229, grad_fn=<MeanBackward0>)\n",
      "epoch: 90|loss:0.022935863584280014|test loss0.031140530481934547\n",
      "OrderedDict({'weights': tensor([0.6043]), 'bias': tensor([0.3523])})\n",
      "tensor(0.0225, grad_fn=<MeanBackward0>)\n",
      "tensor(0.0221, grad_fn=<MeanBackward0>)\n",
      "tensor(0.0217, grad_fn=<MeanBackward0>)\n",
      "tensor(0.0212, grad_fn=<MeanBackward0>)\n",
      "tensor(0.0208, grad_fn=<MeanBackward0>)\n",
      "tensor(0.0204, grad_fn=<MeanBackward0>)\n",
      "tensor(0.0200, grad_fn=<MeanBackward0>)\n",
      "tensor(0.0195, grad_fn=<MeanBackward0>)\n",
      "tensor(0.0191, grad_fn=<MeanBackward0>)\n",
      "tensor(0.0187, grad_fn=<MeanBackward0>)\n",
      "epoch: 100|loss:0.018678754568099976|test loss0.025241747498512268\n",
      "OrderedDict({'weights': tensor([0.6223]), 'bias': tensor([0.3423])})\n",
      "tensor(0.0183, grad_fn=<MeanBackward0>)\n",
      "tensor(0.0178, grad_fn=<MeanBackward0>)\n",
      "tensor(0.0174, grad_fn=<MeanBackward0>)\n",
      "tensor(0.0170, grad_fn=<MeanBackward0>)\n",
      "tensor(0.0165, grad_fn=<MeanBackward0>)\n",
      "tensor(0.0161, grad_fn=<MeanBackward0>)\n",
      "tensor(0.0157, grad_fn=<MeanBackward0>)\n",
      "tensor(0.0153, grad_fn=<MeanBackward0>)\n",
      "tensor(0.0148, grad_fn=<MeanBackward0>)\n",
      "tensor(0.0144, grad_fn=<MeanBackward0>)\n",
      "epoch: 110|loss:0.014420727267861366|test loss0.01934296265244484\n",
      "OrderedDict({'weights': tensor([0.6404]), 'bias': tensor([0.3323])})\n",
      "tensor(0.0140, grad_fn=<MeanBackward0>)\n",
      "tensor(0.0136, grad_fn=<MeanBackward0>)\n",
      "tensor(0.0131, grad_fn=<MeanBackward0>)\n",
      "tensor(0.0127, grad_fn=<MeanBackward0>)\n",
      "tensor(0.0123, grad_fn=<MeanBackward0>)\n",
      "tensor(0.0119, grad_fn=<MeanBackward0>)\n",
      "tensor(0.0114, grad_fn=<MeanBackward0>)\n",
      "tensor(0.0110, grad_fn=<MeanBackward0>)\n",
      "tensor(0.0106, grad_fn=<MeanBackward0>)\n",
      "tensor(0.0102, grad_fn=<MeanBackward0>)\n",
      "epoch: 120|loss:0.010163973085582256|test loss0.013485843315720558\n",
      "OrderedDict({'weights': tensor([0.6587]), 'bias': tensor([0.3228])})\n",
      "tensor(0.0097, grad_fn=<MeanBackward0>)\n",
      "tensor(0.0093, grad_fn=<MeanBackward0>)\n",
      "tensor(0.0089, grad_fn=<MeanBackward0>)\n",
      "tensor(0.0085, grad_fn=<MeanBackward0>)\n",
      "tensor(0.0080, grad_fn=<MeanBackward0>)\n",
      "tensor(0.0076, grad_fn=<MeanBackward0>)\n",
      "tensor(0.0072, grad_fn=<MeanBackward0>)\n",
      "tensor(0.0068, grad_fn=<MeanBackward0>)\n",
      "tensor(0.0063, grad_fn=<MeanBackward0>)\n",
      "tensor(0.0059, grad_fn=<MeanBackward0>)\n",
      "epoch: 130|loss:0.005905938800424337|test loss0.007587054278701544\n",
      "OrderedDict({'weights': tensor([0.6767]), 'bias': tensor([0.3128])})\n",
      "tensor(0.0055, grad_fn=<MeanBackward0>)\n",
      "tensor(0.0051, grad_fn=<MeanBackward0>)\n",
      "tensor(0.0046, grad_fn=<MeanBackward0>)\n",
      "tensor(0.0042, grad_fn=<MeanBackward0>)\n",
      "tensor(0.0038, grad_fn=<MeanBackward0>)\n",
      "tensor(0.0034, grad_fn=<MeanBackward0>)\n",
      "tensor(0.0029, grad_fn=<MeanBackward0>)\n",
      "tensor(0.0025, grad_fn=<MeanBackward0>)\n",
      "tensor(0.0021, grad_fn=<MeanBackward0>)\n",
      "tensor(0.0016, grad_fn=<MeanBackward0>)\n",
      "epoch: 140|loss:0.0016479104524478316|test loss0.001688262796960771\n",
      "OrderedDict({'weights': tensor([0.6948]), 'bias': tensor([0.3028])})\n",
      "tensor(0.0012, grad_fn=<MeanBackward0>)\n",
      "tensor(0.0009, grad_fn=<MeanBackward0>)\n",
      "tensor(0.0053, grad_fn=<MeanBackward0>)\n",
      "tensor(0.0072, grad_fn=<MeanBackward0>)\n",
      "tensor(0.0053, grad_fn=<MeanBackward0>)\n",
      "tensor(0.0072, grad_fn=<MeanBackward0>)\n",
      "tensor(0.0053, grad_fn=<MeanBackward0>)\n",
      "tensor(0.0072, grad_fn=<MeanBackward0>)\n",
      "tensor(0.0053, grad_fn=<MeanBackward0>)\n",
      "tensor(0.0072, grad_fn=<MeanBackward0>)\n",
      "epoch: 150|loss:0.007172236684709787|test loss0.005178255029022694\n",
      "OrderedDict({'weights': tensor([0.6958]), 'bias': tensor([0.2968])})\n",
      "tensor(0.0053, grad_fn=<MeanBackward0>)\n",
      "tensor(0.0072, grad_fn=<MeanBackward0>)\n",
      "tensor(0.0053, grad_fn=<MeanBackward0>)\n",
      "tensor(0.0072, grad_fn=<MeanBackward0>)\n",
      "tensor(0.0053, grad_fn=<MeanBackward0>)\n",
      "tensor(0.0072, grad_fn=<MeanBackward0>)\n",
      "tensor(0.0053, grad_fn=<MeanBackward0>)\n",
      "tensor(0.0072, grad_fn=<MeanBackward0>)\n",
      "tensor(0.0053, grad_fn=<MeanBackward0>)\n",
      "tensor(0.0072, grad_fn=<MeanBackward0>)\n",
      "epoch: 160|loss:0.007172236684709787|test loss0.005178255029022694\n",
      "OrderedDict({'weights': tensor([0.6958]), 'bias': tensor([0.2968])})\n",
      "tensor(0.0053, grad_fn=<MeanBackward0>)\n",
      "tensor(0.0072, grad_fn=<MeanBackward0>)\n",
      "tensor(0.0053, grad_fn=<MeanBackward0>)\n",
      "tensor(0.0072, grad_fn=<MeanBackward0>)\n",
      "tensor(0.0053, grad_fn=<MeanBackward0>)\n",
      "tensor(0.0072, grad_fn=<MeanBackward0>)\n",
      "tensor(0.0053, grad_fn=<MeanBackward0>)\n",
      "tensor(0.0072, grad_fn=<MeanBackward0>)\n",
      "tensor(0.0053, grad_fn=<MeanBackward0>)\n",
      "tensor(0.0072, grad_fn=<MeanBackward0>)\n",
      "epoch: 170|loss:0.007172236684709787|test loss0.005178255029022694\n",
      "OrderedDict({'weights': tensor([0.6958]), 'bias': tensor([0.2968])})\n",
      "tensor(0.0053, grad_fn=<MeanBackward0>)\n",
      "tensor(0.0072, grad_fn=<MeanBackward0>)\n",
      "tensor(0.0053, grad_fn=<MeanBackward0>)\n",
      "tensor(0.0072, grad_fn=<MeanBackward0>)\n",
      "tensor(0.0053, grad_fn=<MeanBackward0>)\n",
      "tensor(0.0072, grad_fn=<MeanBackward0>)\n",
      "tensor(0.0053, grad_fn=<MeanBackward0>)\n",
      "tensor(0.0072, grad_fn=<MeanBackward0>)\n",
      "tensor(0.0053, grad_fn=<MeanBackward0>)\n",
      "tensor(0.0072, grad_fn=<MeanBackward0>)\n",
      "epoch: 180|loss:0.007172236684709787|test loss0.005178255029022694\n",
      "OrderedDict({'weights': tensor([0.6958]), 'bias': tensor([0.2968])})\n",
      "tensor(0.0053, grad_fn=<MeanBackward0>)\n",
      "tensor(0.0072, grad_fn=<MeanBackward0>)\n",
      "tensor(0.0053, grad_fn=<MeanBackward0>)\n",
      "tensor(0.0072, grad_fn=<MeanBackward0>)\n",
      "tensor(0.0053, grad_fn=<MeanBackward0>)\n",
      "tensor(0.0072, grad_fn=<MeanBackward0>)\n",
      "tensor(0.0053, grad_fn=<MeanBackward0>)\n",
      "tensor(0.0072, grad_fn=<MeanBackward0>)\n",
      "tensor(0.0053, grad_fn=<MeanBackward0>)\n",
      "tensor(0.0072, grad_fn=<MeanBackward0>)\n",
      "epoch: 190|loss:0.007172236684709787|test loss0.005178255029022694\n",
      "OrderedDict({'weights': tensor([0.6958]), 'bias': tensor([0.2968])})\n",
      "tensor(0.0053, grad_fn=<MeanBackward0>)\n",
      "tensor(0.0072, grad_fn=<MeanBackward0>)\n",
      "tensor(0.0053, grad_fn=<MeanBackward0>)\n",
      "tensor(0.0072, grad_fn=<MeanBackward0>)\n",
      "tensor(0.0053, grad_fn=<MeanBackward0>)\n",
      "tensor(0.0072, grad_fn=<MeanBackward0>)\n",
      "tensor(0.0053, grad_fn=<MeanBackward0>)\n",
      "tensor(0.0072, grad_fn=<MeanBackward0>)\n",
      "tensor(0.0053, grad_fn=<MeanBackward0>)\n"
     ]
    }
   ],
   "source": [
    "epochs=200\n",
    "epoch_cnt=[]\n",
    "loss_val=[]\n",
    "test_loss_val=[]\n",
    "for epoch in range(epochs):\n",
    "    \n",
    "    model_0.train()\n",
    "    y_preds=model_0(x_train)\n",
    "    loss = loss_fn(y_preds,y_train)\n",
    "    optimizer.zero_grad()\n",
    "    loss.backward()\n",
    "    optimizer.step()\n",
    "    model_0.eval()\n",
    "    print(loss)\n",
    "    with torch.inference_mode():\n",
    "        test_pred=model_0(x_test)\n",
    "        test_loss=loss_fn(test_pred,y_test)\n",
    "    if epoch % 10==0:\n",
    "        epoch_cnt.append(epoch)\n",
    "        loss_val.append(loss)\n",
    "        test_loss_val.append(test_loss)\n",
    "        print(f\"epoch: {epoch}|loss:{loss}|test loss{test_loss}\")\n",
    "        print(model_0.state_dict())"
   ]
  },
  {
   "cell_type": "code",
   "execution_count": 228,
   "id": "afa04163-6461-488e-bde9-54873301d6eb",
   "metadata": {},
   "outputs": [
    {
     "data": {
      "image/png": "[encoded data removed]",
      "text/plain": [
       "<Figure size 1000x700 with 1 Axes>"
      ]
     },
     "metadata": {},
     "output_type": "display_data"
    }
   ],
   "source": [
    "y_pred_new=model_0(x_test)\n",
    "plot(predictions=y_pred_new)"
   ]
  },
  {
   "cell_type": "code",
   "execution_count": 238,
   "id": "2a305abb-02e0-49fd-9852-29908f7612b2",
   "metadata": {},
   "outputs": [
    {
     "data": {
      "text/plain": [
       "<function matplotlib.pyplot.show(close=None, block=None)>"
      ]
     },
     "execution_count": 238,
     "metadata": {},
     "output_type": "execute_result"
    },
    {
     "data": {
      "image/png": "[encoded data removed]",
      "text/plain": [
       "<Figure size 640x480 with 1 Axes>"
      ]
     },
     "metadata": {},
     "output_type": "display_data"
    }
   ],
   "source": [
    "plt.plot(epoch_cnt,torch.tensor(loss_val).numpy(),label=\"train loss\")\n",
    "plt.plot(epoch_cnt,test_loss_val,label=\"test loss\")\n",
    "plt.legend()\n",
    "plt.show"
   ]
  },
  {
   "cell_type": "code",
   "execution_count": 242,
   "id": "1f2d01f6-365d-4212-b1a0-2425c9fab934",
   "metadata": {},
   "outputs": [
    {
     "data": {
      "text/plain": [
       "WindowsPath('models/01_pytorch_workflow.pth')"
      ]
     },
     "execution_count": 242,
     "metadata": {},
     "output_type": "execute_result"
    }
   ],
   "source": [
    "#saving the model\n",
    "from pathlib import Path\n",
    "m_path=Path(\"models\")\n",
    "m_path.mkdir(parents=True,exist_ok=True)\n",
    "\n",
    "m_name=\"01_pytorch_workflow.pth\"\n",
    "m_save_path=m_path/m_name\n",
    "m_save_path"
   ]
  },
  {
   "cell_type": "code",
   "execution_count": 244,
   "id": "e0e73746-90b4-4adf-8b42-90a7fc11dfaf",
   "metadata": {},
   "outputs": [],
   "source": [
    "torch.save(obj=model_0.state_dict(),f=m_save_path)"
   ]
  },
  {
   "cell_type": "code",
   "execution_count": 246,
   "id": "5ce3306c-ff8d-46f1-80ad-126424df6eb0",
   "metadata": {},
   "outputs": [
    {
     "name": "stdout",
     "output_type": "stream",
     "text": [
      " Volume in drive C is Windows-SSD\n",
      " Volume Serial Number is 5A43-92D5\n",
      "\n",
      " Directory of C:\\Users\\Priyanshu\\pytorch\n",
      "\n",
      "\n",
      " Directory of C:\\Users\\Priyanshu\\pytorch\\models\n",
      "\n",
      "13-05-2025  20:25    <DIR>          .\n",
      "13-05-2025  20:24    <DIR>          ..\n",
      "13-05-2025  20:25    <DIR>          .ipynb_checkpoints\n",
      "13-05-2025  20:25             1,989 01_pytorch_workflow.pth\n",
      "               1 File(s)          1,989 bytes\n",
      "               3 Dir(s)  146,143,686,656 bytes free\n"
     ]
    },
    {
     "name": "stderr",
     "output_type": "stream",
     "text": [
      "File Not Found\n"
     ]
    }
   ],
   "source": [
    "ls -l models"
   ]
  },
  {
   "cell_type": "code",
   "execution_count": null,
   "id": "9fa6611e-6321-4b7a-9059-b3eb7aec9e63",
   "metadata": {},
   "outputs": [],
   "source": []
  },
  {
   "cell_type": "code",
   "execution_count": 255,
   "id": "3bb640b7-fe5f-433e-b3e6-13c9b8e70024",
   "metadata": {},
   "outputs": [
    {
     "data": {
      "text/plain": [
       "OrderedDict([('weights', tensor([0.2345])), ('bias', tensor([0.2303]))])"
      ]
     },
     "execution_count": 255,
     "metadata": {},
     "output_type": "execute_result"
    }
   ],
   "source": [
    "loaded_model_0.state_dict()\n",
    "#without loading the state dict"
   ]
  },
  {
   "cell_type": "code",
   "execution_count": 257,
   "id": "02470b10-692e-4d0d-bf9e-ffa1b05cf9d4",
   "metadata": {},
   "outputs": [
    {
     "data": {
      "text/plain": [
       "OrderedDict([('weights', tensor([0.7007])), ('bias', tensor([0.3068]))])"
      ]
     },
     "execution_count": 257,
     "metadata": {},
     "output_type": "execute_result"
    }
   ],
   "source": [
    "model_0.state_dict()"
   ]
  },
  {
   "cell_type": "code",
   "execution_count": 259,
   "id": "1bb6ddc6-a85a-485d-8774-cb0c1e305d6d",
   "metadata": {},
   "outputs": [
    {
     "data": {
      "text/plain": [
       "<All keys matched successfully>"
      ]
     },
     "execution_count": 259,
     "metadata": {},
     "output_type": "execute_result"
    }
   ],
   "source": [
    "#after loading state dict\n",
    "#loading a model\n",
    "loaded_model_0=LinearRegressionModel()\n",
    "loaded_model_0.load_state_dict(torch.load(f=m_save_path))"
   ]
  },
  {
   "cell_type": "code",
   "execution_count": 263,
   "id": "d8e37e1e-4980-427a-a1d2-5b62547bed3f",
   "metadata": {},
   "outputs": [
    {
     "data": {
      "text/plain": [
       "OrderedDict([('weights', tensor([0.7007])), ('bias', tensor([0.3068]))])"
      ]
     },
     "execution_count": 263,
     "metadata": {},
     "output_type": "execute_result"
    }
   ],
   "source": [
    "loaded_model_0.state_dict()"
   ]
  },
  {
   "cell_type": "code",
   "execution_count": 43,
   "id": "6925e9dd-89cd-45f1-b3ce-f70a4e644ddb",
   "metadata": {},
   "outputs": [
    {
     "name": "stdout",
     "output_type": "stream",
     "text": [
      "using device : cuda\n"
     ]
    },
    {
     "data": {
      "image/png": "[encoded data removed]",
      "text/plain": [
       "<Figure size 1000x700 with 1 Axes>"
      ]
     },
     "metadata": {},
     "output_type": "display_data"
    },
    {
     "name": "stdout",
     "output_type": "stream",
     "text": [
      "\n",
      "\n",
      "\n",
      "\n",
      "\n",
      " OrderedDict({'linear_layer.weight': tensor([[0.7645]]), 'linear_layer.bias': tensor([0.8300])})\n",
      "\n",
      "\n",
      "\n",
      "device of the parameters :  cpu\n",
      "after changing the device :  cuda:0\n",
      "\n",
      "\n",
      "\n",
      "\n",
      "\n",
      "\n",
      "\n",
      "BEFORE TRAINING THE MODEL\n"
     ]
    },
    {
     "data": {
      "image/png": "[encoded data removed]",
      "text/plain": [
       "<Figure size 1000x700 with 1 Axes>"
      ]
     },
     "metadata": {},
     "output_type": "display_data"
    },
    {
     "name": "stdout",
     "output_type": "stream",
     "text": [
      "\n",
      "\n",
      "\n",
      "\n",
      "\n",
      "\n",
      " OrderedDict({'linear_layer.weight': tensor([[0.7645]], device='cuda:0'), 'linear_layer.bias': tensor([0.8300], device='cuda:0')}) \n",
      "\n",
      "\n",
      "Epoch : 0|Loss : 0.5620835423469543|Test loss : 0.5475285649299622\n",
      "Epoch : 10|Loss : 0.43738269805908203|Test loss : 0.42456722259521484\n",
      "Epoch : 20|Loss : 0.31268182396888733|Test loss : 0.30160585045814514\n",
      "Epoch : 30|Loss : 0.18798093497753143|Test loss : 0.17864446341991425\n",
      "Epoch : 40|Loss : 0.06335847824811935|Test loss : 0.05839132145047188\n",
      "Epoch : 50|Loss : 0.03489170968532562|Test loss : 0.04196906462311745\n",
      "Epoch : 60|Loss : 0.030128611251711845|Test loss : 0.03623265027999878\n",
      "Epoch : 70|Loss : 0.025596871972084045|Test loss : 0.030687956139445305\n",
      "Epoch : 80|Loss : 0.021065134555101395|Test loss : 0.025143278762698174\n",
      "Epoch : 90|Loss : 0.016533391550183296|Test loss : 0.01959858648478985\n",
      "Epoch : 100|Loss : 0.011999026872217655|Test loss : 0.01410183310508728\n",
      "Epoch : 110|Loss : 0.007467285729944706|Test loss : 0.008557143621146679\n",
      "Epoch : 120|Loss : 0.002960979240015149|Test loss : 0.002971947193145752\n",
      "Epoch : 130|Loss : 0.007450076285749674|Test loss : 0.00470107514411211\n",
      "Epoch : 140|Loss : 0.007450076285749674|Test loss : 0.00470107514411211\n",
      "Epoch : 150|Loss : 0.007450076285749674|Test loss : 0.00470107514411211\n",
      "Epoch : 160|Loss : 0.007450076285749674|Test loss : 0.00470107514411211\n",
      "Epoch : 170|Loss : 0.007450076285749674|Test loss : 0.00470107514411211\n",
      "Epoch : 180|Loss : 0.007450076285749674|Test loss : 0.00470107514411211\n",
      "Epoch : 190|Loss : 0.007450076285749674|Test loss : 0.00470107514411211\n",
      "\n",
      "\n",
      "\n",
      " OrderedDict({'linear_layer.weight': tensor([[0.6959]], device='cuda:0'), 'linear_layer.bias': tensor([0.3095], device='cuda:0')})\n"
     ]
    },
    {
     "data": {
      "image/png": "[encoded data removed]",
      "text/plain": [
       "<Figure size 1000x700 with 1 Axes>"
      ]
     },
     "metadata": {},
     "output_type": "display_data"
    }
   ],
   "source": [
    "#putting all together\n",
    "import torch\n",
    "from torch import nn\n",
    "import matplotlib.pyplot as plt\n",
    "\n",
    "#setup device agnostic code\n",
    "device=\"cuda\" if torch.cuda.is_available() else \"cpu\"\n",
    "print(f\"using device : {device}\")\n",
    "\n",
    "#data\n",
    "weight=0.7\n",
    "bias=0.3\n",
    "\n",
    "start=0\n",
    "end=1\n",
    "step=0.02\n",
    "\n",
    "x=torch.arange(start,end,step).unsqueeze(dim=1)\n",
    "y=weight*x+bias\n",
    "\n",
    "#split data\n",
    "from sklearn.model_selection import train_test_split\n",
    "x_train,x_test,y_train,y_test=train_test_split(x,y,test_size=0.2)\n",
    "\n",
    "#plot data\n",
    "def plot_p(train_data=x_train,\n",
    "        train_lables=y_train,\n",
    "        test_data=x_test,\n",
    "        test_lables=y_test,\n",
    "         predictions=None):\n",
    "    plt.figure(figsize=(10,7))\n",
    "    plt.scatter(train_data,train_lables,c='b',s=4,label=\"training data\")\n",
    "    plt.scatter(test_data,test_lables,c='g',s=4,label=\"testing data\")\n",
    "    if predictions is not None:\n",
    "        plt.scatter(test_data,predictions.detach().cpu().numpy(),c='r',s=4,label=\"predictions\")\n",
    "    plt.legend(prop={\"size\":14});\n",
    "    plt.show()\n",
    "plot_p()\n",
    "\n",
    "#building a model\n",
    "class LinearRegressionModelV2(nn.Module):\n",
    "    def __init__(self):\n",
    "        super().__init__()\n",
    "        self.linear_layer=nn.Linear(in_features=1,\n",
    "                                   out_features=1)\n",
    "    def forward(self,x:torch.Tensor)->torch.Tensor:\n",
    "        return self.linear_layer(x)\n",
    "torch.manual_seed(42)\n",
    "model_1=LinearRegressionModelV2()\n",
    "print(\"\\n\\n\\n\\n\\n\",model_1.state_dict())\n",
    "\n",
    "#training the model\n",
    "print(\"\\n\\n\\ndevice of the parameters : \",next(model_1.parameters()).device)\n",
    "\n",
    "model_1.to(device)\n",
    "print(\"after changing the device : \",next(model_1.parameters()).device)\n",
    "\n",
    "loss_fn=nn.L1Loss()\n",
    "optimizer=torch.optim.SGD(params=model_1.parameters(),\n",
    "                         lr=0.01)\n",
    "#put data on the correct device\n",
    "x_train=x_train.to(device)\n",
    "x_test=x_test.to(device)\n",
    "y_train=y_train.to(device)\n",
    "y_test=y_test.to(device)\n",
    "print(\"\\n\\n\\n\\n\\n\\n\\nBEFORE TRAINING THE MODEL\")\n",
    "plot_p(predictions=model_1(x_test))\n",
    "torch.manual_seed(42)\n",
    "epochs=200\n",
    "print(\"\\n\\n\\n\\n\\n\\n\",model_1.state_dict(),\"\\n\\n\")\n",
    "for epoch in range(epochs):\n",
    "    y_pred=model_1(x_train)\n",
    "    loss=loss_fn(y_pred,y_train)\n",
    "    optimizer.zero_grad()\n",
    "    loss.backward()\n",
    "    optimizer.step()\n",
    "\n",
    "\n",
    "    #testing\n",
    "    model_1.eval()\n",
    "    with torch.inference_mode():\n",
    "        test_pred=model_1(x_test)\n",
    "        test_loss=loss_fn(test_pred,y_test)\n",
    "\n",
    "\n",
    "    if epoch%10==0:\n",
    "        print(f\"Epoch : {epoch}|Loss : {loss}|Test loss : {test_loss}\")\n",
    "print(\"\\n\\n\\n\",model_1.state_dict())\n",
    "plot_p(predictions=test_pred)\n",
    "\n",
    "#save and load\n"
   ]
  },
  {
   "cell_type": "code",
   "execution_count": 45,
   "id": "00412e5d-3c27-4b5c-a0f8-ea1043655103",
   "metadata": {},
   "outputs": [],
   "source": [
    "#save and load\n",
    "from pathlib import Path\n",
    "m_path=Path(\"models\")\n",
    "m_path.mkdir(parents=True,exist_ok=True)\n",
    "\n",
    "m_name=\"01_pytorch_workflow_new_1.pth\"\n",
    "m_save_path=m_path/m_name\n",
    "torch.save(obj=model_1.state_dict(),f=m_save_path)"
   ]
  },
  {
   "cell_type": "code",
   "execution_count": 47,
   "id": "efa637c0-86dc-44eb-a913-df421df4a205",
   "metadata": {},
   "outputs": [
    {
     "name": "stdout",
     "output_type": "stream",
     "text": [
      " Volume in drive C is Windows-SSD\n",
      " Volume Serial Number is 5A43-92D5\n",
      "\n",
      " Directory of C:\\Users\\Priyanshu\\pytorch\n",
      "\n",
      "\n",
      " Directory of C:\\Users\\Priyanshu\\pytorch\\models\n",
      "\n",
      "14-05-2025  15:41    <DIR>          .\n",
      "14-05-2025  15:52    <DIR>          ..\n",
      "13-05-2025  20:25    <DIR>          .ipynb_checkpoints\n",
      "13-05-2025  20:25             1,989 01_pytorch_workflow.pth\n",
      "14-05-2025  15:52             2,229 01_pytorch_workflow_new_1.pth\n",
      "               2 File(s)          4,218 bytes\n",
      "               3 Dir(s)  146,570,805,248 bytes free\n"
     ]
    },
    {
     "name": "stderr",
     "output_type": "stream",
     "text": [
      "File Not Found\n"
     ]
    }
   ],
   "source": [
    "ls -l models"
   ]
  },
  {
   "cell_type": "code",
   "execution_count": 49,
   "id": "91f0e10c-5450-493d-9ed0-a91c428d86d1",
   "metadata": {},
   "outputs": [
    {
     "name": "stdout",
     "output_type": "stream",
     "text": [
      "before loading the state dict of model_1 : state of loaded_model_1 : \n",
      " OrderedDict({'linear_layer.weight': tensor([[0.7645]]), 'linear_layer.bias': tensor([0.8300])})\n",
      "After loading the state dict : \n",
      " OrderedDict({'linear_layer.weight': tensor([[0.6959]]), 'linear_layer.bias': tensor([0.3095])})\n"
     ]
    }
   ],
   "source": [
    "#loading\n",
    "loaded_model_1=LinearRegressionModelV2()\n",
    "print(\"before loading the state dict of model_1 : state of loaded_model_1 : \\n\",loaded_model_1.state_dict())\n",
    "loaded_model_1.load_state_dict(torch.load(m_save_path))\n",
    "print(\"After loading the state dict : \\n\",loaded_model_1.state_dict())"
   ]
  },
  {
   "cell_type": "code",
   "execution_count": 51,
   "id": "46a22927-147a-45c3-9841-20abb3540931",
   "metadata": {},
   "outputs": [
    {
     "data": {
      "text/plain": [
       "LinearRegressionModelV2(\n",
       "  (linear_layer): Linear(in_features=1, out_features=1, bias=True)\n",
       ")"
      ]
     },
     "execution_count": 51,
     "metadata": {},
     "output_type": "execute_result"
    }
   ],
   "source": [
    "loaded_model_1"
   ]
  },
  {
   "cell_type": "code",
   "execution_count": 53,
   "id": "2f9c191a-7f54-4cd6-84fb-5d35e0952611",
   "metadata": {},
   "outputs": [
    {
     "data": {
      "text/plain": [
       "device(type='cpu')"
      ]
     },
     "execution_count": 53,
     "metadata": {},
     "output_type": "execute_result"
    }
   ],
   "source": [
    "next(loaded_model_1.parameters()).device"
   ]
  },
  {
   "cell_type": "code",
   "execution_count": 55,
   "id": "9aedcaf2-2f05-464a-9640-cf4a54bec8d2",
   "metadata": {},
   "outputs": [
    {
     "data": {
      "text/plain": [
       "LinearRegressionModelV2(\n",
       "  (linear_layer): Linear(in_features=1, out_features=1, bias=True)\n",
       ")"
      ]
     },
     "execution_count": 55,
     "metadata": {},
     "output_type": "execute_result"
    }
   ],
   "source": [
    "loaded_model_1.to(device)"
   ]
  },
  {
   "cell_type": "code",
   "execution_count": 57,
   "id": "666b4636-a66a-4d4e-83b3-56530ccf7d29",
   "metadata": {},
   "outputs": [
    {
     "data": {
      "text/plain": [
       "device(type='cuda', index=0)"
      ]
     },
     "execution_count": 57,
     "metadata": {},
     "output_type": "execute_result"
    }
   ],
   "source": [
    "next(loaded_model_1.parameters()).device"
   ]
  },
  {
   "cell_type": "code",
   "execution_count": 59,
   "id": "f5130daa-1a6f-4b0c-b803-0ba9ddc3593f",
   "metadata": {},
   "outputs": [
    {
     "data": {
      "text/plain": [
       "tensor([[True],\n",
       "        [True],\n",
       "        [True],\n",
       "        [True],\n",
       "        [True],\n",
       "        [True],\n",
       "        [True],\n",
       "        [True],\n",
       "        [True],\n",
       "        [True]], device='cuda:0')"
      ]
     },
     "execution_count": 59,
     "metadata": {},
     "output_type": "execute_result"
    }
   ],
   "source": [
    "loaded_model_1.eval()\n",
    "with torch.inference_mode():\n",
    "    loaded_model_1_preds=loaded_model_1(x_test)\n",
    "test_pred == loaded_model_1_preds"
   ]
  },
  {
   "cell_type": "code",
   "execution_count": null,
   "id": "0f0470bf-0691-4856-87c0-0ad5b28664ef",
   "metadata": {},
   "outputs": [],
   "source": []
  }
 ],
 "metadata": {
  "kernelspec": {
   "display_name": "Python [conda env:base] *",
   "language": "python",
   "name": "conda-base-py"
  },
  "language_info": {
   "codemirror_mode": {
    "name": "ipython",
    "version": 3
   },
   "file_extension": ".py",
   "mimetype": "text/x-python",
   "name": "python",
   "nbconvert_exporter": "python",
   "pygments_lexer": "ipython3",
   "version": "3.12.7"
  }
 },
 "nbformat": 4,
 "nbformat_minor": 5
}
