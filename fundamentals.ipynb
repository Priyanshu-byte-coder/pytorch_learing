{
 "cells": [
  {
   "cell_type": "code",
   "execution_count": 1,
   "id": "b1a18721-c9b7-4586-ac7d-2acffae86589",
   "metadata": {},
   "outputs": [
    {
     "name": "stdout",
     "output_type": "stream",
     "text": [
      "Mon May 12 11:08:47 2025       \n",
      "+-----------------------------------------------------------------------------------------+\n",
      "| NVIDIA-SMI 572.83                 Driver Version: 572.83         CUDA Version: 12.8     |\n",
      "|-----------------------------------------+------------------------+----------------------+\n",
      "| GPU  Name                  Driver-Model | Bus-Id          Disp.A | Volatile Uncorr. ECC |\n",
      "| Fan  Temp   Perf          Pwr:Usage/Cap |           Memory-Usage | GPU-Util  Compute M. |\n",
      "|                                         |                        |               MIG M. |\n",
      "|=========================================+========================+======================|\n",
      "|   0  NVIDIA GeForce RTX 3050 ...  WDDM  |   00000000:01:00.0  On |                  N/A |\n",
      "| N/A   53C    P8              4W /   75W |     314MiB /   6144MiB |      0%      Default |\n",
      "|                                         |                        |                  N/A |\n",
      "+-----------------------------------------+------------------------+----------------------+\n",
      "                                                                                         \n",
      "+-----------------------------------------------------------------------------------------+\n",
      "| Processes:                                                                              |\n",
      "|  GPU   GI   CI              PID   Type   Process name                        GPU Memory |\n",
      "|        ID   ID                                                               Usage      |\n",
      "|=========================================================================================|\n",
      "|    0   N/A  N/A            4668    C+G   ...4__w2gh52qy24etm\\Nahimic3.exe      N/A      |\n",
      "|    0   N/A  N/A           11468    C+G   ...5n1h2txyewy\\TextInputHost.exe      N/A      |\n",
      "|    0   N/A  N/A           12120    C+G   C:\\Windows\\explorer.exe               N/A      |\n",
      "|    0   N/A  N/A           12320    C+G   ...s\\PowerToys.ColorPickerUI.exe      N/A      |\n",
      "|    0   N/A  N/A           14852    C+G   ...App_cw5n1h2txyewy\\LockApp.exe      N/A      |\n",
      "|    0   N/A  N/A           20512    C+G   ...4__cv1g1gvanyjgm\\WhatsApp.exe      N/A      |\n",
      "|    0   N/A  N/A           20816    C+G   ...Toys\\PowerToys.FancyZones.exe      N/A      |\n",
      "|    0   N/A  N/A           22168    C+G   ...s\\PowerToys.PowerLauncher.exe      N/A      |\n",
      "|    0   N/A  N/A           22604    C+G   ..._cw5n1h2txyewy\\SearchHost.exe      N/A      |\n",
      "|    0   N/A  N/A           24308    C+G   ...IA app\\CEF\\NVIDIA Overlay.exe      N/A      |\n",
      "|    0   N/A  N/A           29292    C+G   ...IA app\\CEF\\NVIDIA Overlay.exe      N/A      |\n",
      "|    0   N/A  N/A           31000    C+G   ...xyewy\\ShellExperienceHost.exe      N/A      |\n",
      "|    0   N/A  N/A           31344    C+G   ...y\\StartMenuExperienceHost.exe      N/A      |\n",
      "+-----------------------------------------------------------------------------------------+\n"
     ]
    }
   ],
   "source": [
    "!nvidia-smi"
   ]
  },
  {
   "cell_type": "code",
   "execution_count": 3,
   "id": "fad78130-6305-4d6d-b2a6-bd0608e366c4",
   "metadata": {},
   "outputs": [],
   "source": [
    "import torch"
   ]
  },
  {
   "cell_type": "code",
   "execution_count": 4,
   "id": "24c4207d-1158-4738-b117-71ddf62178c4",
   "metadata": {},
   "outputs": [
    {
     "data": {
      "text/plain": [
       "True"
      ]
     },
     "execution_count": 4,
     "metadata": {},
     "output_type": "execute_result"
    }
   ],
   "source": [
    "torch.cuda.is_available()"
   ]
  },
  {
   "cell_type": "code",
   "execution_count": 5,
   "id": "71d80e8b-31c1-4075-8f74-f97875bcfcec",
   "metadata": {},
   "outputs": [],
   "source": [
    "device=\"cuda\" if torch.cuda.is_available() else \"cpu\""
   ]
  },
  {
   "cell_type": "code",
   "execution_count": 6,
   "id": "d4836e21-d36b-4e81-a2a5-27d942004dec",
   "metadata": {},
   "outputs": [
    {
     "data": {
      "text/plain": [
       "'cuda'"
      ]
     },
     "execution_count": 6,
     "metadata": {},
     "output_type": "execute_result"
    }
   ],
   "source": [
    "device"
   ]
  },
  {
   "cell_type": "code",
   "execution_count": 7,
   "id": "144d1494-7fde-454e-9c59-f9a8432db105",
   "metadata": {},
   "outputs": [
    {
     "data": {
      "text/plain": [
       "1"
      ]
     },
     "execution_count": 7,
     "metadata": {},
     "output_type": "execute_result"
    }
   ],
   "source": [
    "torch.cuda.device_count()"
   ]
  },
  {
   "cell_type": "code",
   "execution_count": 8,
   "id": "85f21af2-9eaf-4b44-9c18-595f2cfde15b",
   "metadata": {},
   "outputs": [
    {
     "data": {
      "text/plain": [
       "device(type='cpu')"
      ]
     },
     "execution_count": 8,
     "metadata": {},
     "output_type": "execute_result"
    }
   ],
   "source": [
    "tensor=torch.tensor([1,2,3])\n",
    "tensor.device"
   ]
  },
  {
   "cell_type": "code",
   "execution_count": 9,
   "id": "0b986994-fb11-4be9-b7de-5f2b4623126e",
   "metadata": {},
   "outputs": [
    {
     "data": {
      "text/plain": [
       "device(type='cuda', index=0)"
      ]
     },
     "execution_count": 9,
     "metadata": {},
     "output_type": "execute_result"
    }
   ],
   "source": [
    "tg=tensor.to(device)\n",
    "tg.device"
   ]
  },
  {
   "cell_type": "code",
   "execution_count": 10,
   "id": "faa6f85d-0bb8-441d-9e3d-8ff724663b00",
   "metadata": {},
   "outputs": [
    {
     "ename": "TypeError",
     "evalue": "can't convert cuda:0 device type tensor to numpy. Use Tensor.cpu() to copy the tensor to host memory first.",
     "output_type": "error",
     "traceback": [
      "\u001b[1;31m---------------------------------------------------------------------------\u001b[0m",
      "\u001b[1;31mTypeError\u001b[0m                                 Traceback (most recent call last)",
      "Cell \u001b[1;32mIn[10], line 1\u001b[0m\n\u001b[1;32m----> 1\u001b[0m \u001b[43mtg\u001b[49m\u001b[38;5;241;43m.\u001b[39;49m\u001b[43mnumpy\u001b[49m\u001b[43m(\u001b[49m\u001b[43m)\u001b[49m\n",
      "\u001b[1;31mTypeError\u001b[0m: can't convert cuda:0 device type tensor to numpy. Use Tensor.cpu() to copy the tensor to host memory first."
     ]
    }
   ],
   "source": [
    "tg.numpy()"
   ]
  },
  {
   "cell_type": "code",
   "execution_count": 22,
   "id": "b693a4aa-6162-46b3-8da1-c9ae7c723b79",
   "metadata": {},
   "outputs": [],
   "source": [
    "tgc=tg.cpu().numpy"
   ]
  },
  {
   "cell_type": "code",
   "execution_count": 24,
   "id": "4a421c0e-6eda-4d55-878e-497809ac0a1f",
   "metadata": {},
   "outputs": [],
   "source": [
    "#excercise\n",
    "f=torch.rand(7,7)"
   ]
  },
  {
   "cell_type": "code",
   "execution_count": 26,
   "id": "3597f749-b744-4e6e-a142-5639c2e29c99",
   "metadata": {},
   "outputs": [
    {
     "data": {
      "text/plain": [
       "tensor([[0.4250, 0.8475, 0.6513, 0.8851, 0.9988, 0.1130, 0.9385],\n",
       "        [0.5053, 0.8278, 0.2739, 0.2876, 0.5596, 0.9611, 0.3008],\n",
       "        [0.6153, 0.1223, 0.7419, 0.6352, 0.2352, 0.0922, 0.6522],\n",
       "        [0.8535, 0.4785, 0.6570, 0.5271, 0.8048, 0.7415, 0.3020],\n",
       "        [0.6645, 0.8334, 0.5311, 0.9204, 0.7347, 0.0740, 0.6876],\n",
       "        [0.2949, 0.5953, 0.0977, 0.5037, 0.3649, 0.3244, 0.2550],\n",
       "        [0.0794, 0.4129, 0.1209, 0.4427, 0.3626, 0.4482, 0.3284]])"
      ]
     },
     "execution_count": 26,
     "metadata": {},
     "output_type": "execute_result"
    }
   ],
   "source": [
    "f"
   ]
  },
  {
   "cell_type": "code",
   "execution_count": 28,
   "id": "fe3afcf3-edc2-4d3d-946f-0d5816ba31aa",
   "metadata": {},
   "outputs": [],
   "source": [
    "f2=torch.rand(1,7)"
   ]
  },
  {
   "cell_type": "code",
   "execution_count": 30,
   "id": "e88c2fd0-3c7b-4f25-8e6d-d36b7b63fa26",
   "metadata": {},
   "outputs": [
    {
     "data": {
      "text/plain": [
       "tensor([[0.4765, 0.9207, 0.0427, 0.4889, 0.8989, 0.9161, 0.2294]])"
      ]
     },
     "execution_count": 30,
     "metadata": {},
     "output_type": "execute_result"
    }
   ],
   "source": [
    "f2"
   ]
  },
  {
   "cell_type": "code",
   "execution_count": 32,
   "id": "a0433462-b034-4686-9428-a66947554557",
   "metadata": {},
   "outputs": [],
   "source": [
    "f2=f2.reshape(7,1)"
   ]
  },
  {
   "cell_type": "code",
   "execution_count": 34,
   "id": "ae79f184-148a-4e56-85b0-c6f619549ce7",
   "metadata": {},
   "outputs": [
    {
     "data": {
      "text/plain": [
       "tensor([[0.4765],\n",
       "        [0.9207],\n",
       "        [0.0427],\n",
       "        [0.4889],\n",
       "        [0.8989],\n",
       "        [0.9161],\n",
       "        [0.2294]])"
      ]
     },
     "execution_count": 34,
     "metadata": {},
     "output_type": "execute_result"
    }
   ],
   "source": [
    "f2"
   ]
  },
  {
   "cell_type": "code",
   "execution_count": 36,
   "id": "67707721-8028-444a-9fd5-906fd0ad4d23",
   "metadata": {},
   "outputs": [
    {
     "data": {
      "text/plain": [
       "torch.Size([7, 1])"
      ]
     },
     "execution_count": 36,
     "metadata": {},
     "output_type": "execute_result"
    }
   ],
   "source": [
    "f2.shape"
   ]
  },
  {
   "cell_type": "code",
   "execution_count": 38,
   "id": "cb687058-d871-4221-aacd-355f8f07074d",
   "metadata": {},
   "outputs": [
    {
     "data": {
      "text/plain": [
       "tensor([[2.6599],\n",
       "        [2.6077],\n",
       "        [1.1935],\n",
       "        [2.6049],\n",
       "        [2.4425],\n",
       "        [1.6227],\n",
       "        [1.4514]])"
      ]
     },
     "execution_count": 38,
     "metadata": {},
     "output_type": "execute_result"
    }
   ],
   "source": [
    "torch.mm(f,f2)"
   ]
  },
  {
   "cell_type": "code",
   "execution_count": 40,
   "id": "c2378246-a345-4905-8a54-481aefdaffc8",
   "metadata": {},
   "outputs": [
    {
     "data": {
      "text/plain": [
       "tensor([[0.4963, 0.7682, 0.0885],\n",
       "        [0.1320, 0.3074, 0.6341],\n",
       "        [0.4901, 0.8964, 0.4556]])"
      ]
     },
     "execution_count": 40,
     "metadata": {},
     "output_type": "execute_result"
    }
   ],
   "source": [
    "RANDOM_SEED=0\n",
    "torch.manual_seed(RANDOM_SEED)\n",
    "torch.rand(3,3)"
   ]
  },
  {
   "cell_type": "code",
   "execution_count": 43,
   "id": "f28583f4-113e-48d4-9cb7-e1fe1e47065d",
   "metadata": {},
   "outputs": [],
   "source": [
    "torch.cuda.manual_seed(1234)"
   ]
  },
  {
   "cell_type": "code",
   "execution_count": 45,
   "id": "d76e47e0-4d27-4391-a0d5-e1ce9a0229f2",
   "metadata": {},
   "outputs": [
    {
     "data": {
      "text/plain": [
       "(tensor([[0.1272, 0.8167, 0.5440],\n",
       "         [0.6601, 0.2721, 0.9737]], device='cuda:0'),\n",
       " tensor([[0.6208, 0.0276, 0.3255],\n",
       "         [0.1114, 0.6812, 0.3608]], device='cuda:0'))"
      ]
     },
     "execution_count": 45,
     "metadata": {},
     "output_type": "execute_result"
    }
   ],
   "source": [
    "ta=torch.rand(2,3,device=\"cuda\")\n",
    "tb=torch.rand(2,3,device=\"cuda\")\n",
    "ta,tb"
   ]
  },
  {
   "cell_type": "code",
   "execution_count": 47,
   "id": "a24bd623-2095-4150-b149-8a19ed959af5",
   "metadata": {},
   "outputs": [
    {
     "name": "stdout",
     "output_type": "stream",
     "text": [
      "Step 1 - Random tensor (7x7):\n",
      " tensor([[0.6323, 0.3489, 0.4017, 0.0223, 0.1689, 0.2939, 0.5185],\n",
      "        [0.6977, 0.8000, 0.1610, 0.2823, 0.6816, 0.9152, 0.3971],\n",
      "        [0.8742, 0.4194, 0.5529, 0.9527, 0.0362, 0.1852, 0.3734],\n",
      "        [0.3051, 0.9320, 0.1759, 0.2698, 0.1507, 0.0317, 0.2081],\n",
      "        [0.9298, 0.7231, 0.7423, 0.5263, 0.2437, 0.5846, 0.0332],\n",
      "        [0.1387, 0.2422, 0.8155, 0.7932, 0.2783, 0.4820, 0.8198],\n",
      "        [0.9971, 0.6984, 0.5675, 0.8352, 0.2056, 0.5932, 0.1123]])\n",
      "\n",
      "Step 2 - Matrix multiplication result:\n",
      " tensor([[1.1161],\n",
      "        [1.6576],\n",
      "        [1.7222],\n",
      "        [0.8016],\n",
      "        [1.6815],\n",
      "        [2.2335],\n",
      "        [1.8347]])\n",
      "\n",
      "Step 3 - Random tensor1 with seed 0:\n",
      " tensor([[0.4963, 0.7682, 0.0885, 0.1320, 0.3074, 0.6341, 0.4901],\n",
      "        [0.8964, 0.4556, 0.6323, 0.3489, 0.4017, 0.0223, 0.1689],\n",
      "        [0.2939, 0.5185, 0.6977, 0.8000, 0.1610, 0.2823, 0.6816],\n",
      "        [0.9152, 0.3971, 0.8742, 0.4194, 0.5529, 0.9527, 0.0362],\n",
      "        [0.1852, 0.3734, 0.3051, 0.9320, 0.1759, 0.2698, 0.1507],\n",
      "        [0.0317, 0.2081, 0.9298, 0.7231, 0.7423, 0.5263, 0.2437],\n",
      "        [0.5846, 0.0332, 0.1387, 0.2422, 0.8155, 0.7932, 0.2783]])\n",
      "\n",
      "Random tensor2 with seed 0:\n",
      " tensor([[0.4820, 0.8198, 0.9971, 0.6984, 0.5675, 0.8352, 0.2056]])\n",
      "\n",
      "Matrix multiplication result with seed 0:\n",
      " tensor([[1.8542],\n",
      "        [1.9611],\n",
      "        [2.2884],\n",
      "        [3.0481],\n",
      "        [1.7067],\n",
      "        [2.5290],\n",
      "        [1.7989]])\n",
      "\n",
      "Step 4 - Set GPU random seed to 1234.\n",
      "\n",
      "Step 5 - Tensor A on GPU:\n",
      " tensor([[0.1272, 0.8167, 0.5440],\n",
      "        [0.6601, 0.2721, 0.9737]], device='cuda:0')\n",
      "\n",
      "Tensor B on GPU:\n",
      " tensor([[0.6208, 0.0276, 0.3255],\n",
      "        [0.1114, 0.6812, 0.3608]], device='cuda:0')\n",
      "\n",
      "Step 6 - Matrix multiplication result on GPU:\n",
      " tensor([[0.2786, 0.7668],\n",
      "        [0.7343, 0.6102]], device='cuda:0')\n",
      "\n",
      "Step 7 - Max value: 0.7667766809463501\n",
      "Min value: 0.27863210439682007\n",
      "\n",
      "Step 8 - Max index: 1\n",
      "Min index: 0\n",
      "\n",
      "Step 9 - Original tensor:\n",
      " tensor([[[[0.5349, 0.1988, 0.6592, 0.6569, 0.2328, 0.4251, 0.2071, 0.6297,\n",
      "           0.3653, 0.8513]]]])\n",
      "Shape of original tensor: torch.Size([1, 1, 1, 10])\n",
      "\n",
      "Squeezed tensor:\n",
      " tensor([0.5349, 0.1988, 0.6592, 0.6569, 0.2328, 0.4251, 0.2071, 0.6297, 0.3653,\n",
      "        0.8513])\n",
      "Shape of squeezed tensor: torch.Size([10])\n"
     ]
    }
   ],
   "source": [
    "import torch\n",
    "\n",
    "# Step 1: Create a random tensor with shape (7, 7)\n",
    "tensor1 = torch.rand(7, 7)\n",
    "print(\"Step 1 - Random tensor (7x7):\\n\", tensor1)\n",
    "\n",
    "# Step 2: Perform matrix multiplication with another random tensor (1,7), need to transpose to (7,1) or adjust shape\n",
    "tensor2 = torch.rand(1, 7)\n",
    "result2 = torch.matmul(tensor1, tensor2.T)  # (7,7) x (7,1) => (7,1)\n",
    "print(\"\\nStep 2 - Matrix multiplication result:\\n\", result2)\n",
    "\n",
    "# Step 3: Set the random seed to 0 and repeat\n",
    "torch.manual_seed(0)\n",
    "tensor1_seed0 = torch.rand(7, 7)\n",
    "tensor2_seed0 = torch.rand(1, 7)\n",
    "result3 = torch.matmul(tensor1_seed0, tensor2_seed0.T)\n",
    "print(\"\\nStep 3 - Random tensor1 with seed 0:\\n\", tensor1_seed0)\n",
    "print(\"\\nRandom tensor2 with seed 0:\\n\", tensor2_seed0)\n",
    "print(\"\\nMatrix multiplication result with seed 0:\\n\", result3)\n",
    "\n",
    "# Step 4: GPU random seed equivalent? YES.\n",
    "# Use torch.cuda.manual_seed() to seed for CUDA (GPU)\n",
    "torch.cuda.manual_seed(1234)\n",
    "print(\"\\nStep 4 - Set GPU random seed to 1234.\")\n",
    "\n",
    "# Step 5: Create two random tensors of shape (2, 3) and send them to GPU\n",
    "torch.manual_seed(1234)\n",
    "tensor_a = torch.rand(2, 3, device=\"cuda\")\n",
    "tensor_b = torch.rand(2, 3, device=\"cuda\")\n",
    "print(\"\\nStep 5 - Tensor A on GPU:\\n\", tensor_a)\n",
    "print(\"\\nTensor B on GPU:\\n\", tensor_b)\n",
    "\n",
    "# Step 6: Perform matrix multiplication (requires matching inner dimensions)\n",
    "# We can transpose tensor_b to (3,2) then multiply\n",
    "result6 = torch.matmul(tensor_a, tensor_b.T)\n",
    "print(\"\\nStep 6 - Matrix multiplication result on GPU:\\n\", result6)\n",
    "\n",
    "# Step 7: Find max and min values\n",
    "max_val = torch.max(result6)\n",
    "min_val = torch.min(result6)\n",
    "print(\"\\nStep 7 - Max value:\", max_val.item())\n",
    "print(\"Min value:\", min_val.item())\n",
    "\n",
    "# Step 8: Find max and min indices\n",
    "max_idx = torch.argmax(result6)\n",
    "min_idx = torch.argmin(result6)\n",
    "print(\"\\nStep 8 - Max index:\", max_idx.item())\n",
    "print(\"Min index:\", min_idx.item())\n",
    "\n",
    "# Step 9: Random tensor with shape (1, 1, 1, 10), remove dimensions of size 1\n",
    "torch.manual_seed(7)\n",
    "tensor9 = torch.rand(1, 1, 1, 10)\n",
    "squeezed_tensor9 = tensor9.squeeze()\n",
    "print(\"\\nStep 9 - Original tensor:\\n\", tensor9)\n",
    "print(\"Shape of original tensor:\", tensor9.shape)\n",
    "print(\"\\nSqueezed tensor:\\n\", squeezed_tensor9)\n",
    "print(\"Shape of squeezed tensor:\", squeezed_tensor9.shape)\n"
   ]
  },
  {
   "cell_type": "code",
   "execution_count": null,
   "id": "09481c46-d50c-4d8b-a97f-1ea645a2cd7d",
   "metadata": {},
   "outputs": [],
   "source": []
  },
  {
   "cell_type": "code",
   "execution_count": null,
   "id": "479bf497-53ac-43c4-b4c8-cde80da60db1",
   "metadata": {},
   "outputs": [],
   "source": []
  }
 ],
 "metadata": {
  "kernelspec": {
   "display_name": "Python [conda env:base] *",
   "language": "python",
   "name": "conda-base-py"
  },
  "language_info": {
   "codemirror_mode": {
    "name": "ipython",
    "version": 3
   },
   "file_extension": ".py",
   "mimetype": "text/x-python",
   "name": "python",
   "nbconvert_exporter": "python",
   "pygments_lexer": "ipython3",
   "version": "3.12.7"
  }
 },
 "nbformat": 4,
 "nbformat_minor": 5
}
